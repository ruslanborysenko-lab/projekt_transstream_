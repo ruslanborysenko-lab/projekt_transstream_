{
 "cells": [
  {
   "cell_type": "markdown",
   "metadata": {},
   "source": [
    "# Nazwa projektu: Transstream warehouse"
   ]
  },
  {
   "cell_type": "markdown",
   "metadata": {},
   "source": [
    "# Specyfikacja / Specs\n",
    "\n",
    "## Analiza liczby pracowników w magazynie\n",
    "\n",
    "## Dlaczego ta aplikacja:\n",
    "\t\tŁączy algorytmy uczenia maszynowego i wizualizacje z najprostszą obsługą (wymaga tylko przygotowania pliku Excel, a cała analiza i rekomendacje powstaną automatycznie). Narzędzie może być do wdrożenia w każdej firmie logistycznej lub magazynowej.\n",
    "\t\tAplikacja służy do interaktywnej analizy liczby pracowników w magazynie w oparciu o realne dane operacyjne oraz wsparcie sztucznej inteligencji (OpenAI GPT-4). Pozwala zwizualizować, zoptymalizować i prognozować zapotrzebowanie kadrowe w magazynie na podstawie trendów sezonowych oraz przewidywanego wzrostu operacji.\n",
    "\t\n",
    "## Funkcjonalności\n",
    "\t\t- Import danych z pliku Excel z operacjami i zatrudnieniem.\n",
    "\t\t- Wizualizacja wszystkich kluczowych wskaźników na wykresach (histogramy, wykresy liniowe).\n",
    "\t\t- Automatyczna optymalizacja liczby pracowników przez AI według wybranych reguł biznesowych (z uwzględnieniem typów usług magazynowych)\n",
    "\t\t- Analiza różnic między stanem obecnym a optymalnym (rekomendowanym przez OpenAI)\n",
    "\t\t- Prognozowanie przyszłego zapotrzebowania na pracowników oraz wolumen działań w magazynie (sezonowy trend wzrostu październik-grudzień)\n",
    "\t\t- Wygodny interfejs użytkownika dzięki Streamlit i panelowi bocznemu do sterowania analizą i prognozą\n",
    "\t\n",
    "## Model prognozowania w aplikacji\n",
    "\t\tW tej aplikacji wykorzystano liniową regresję do prognozowania liczby operacji magazynowych oraz optymalnej liczby pracowników operacyjnych na kolejne miesiące.\n",
    "## Jak działa model\n",
    "\t\tRegresja liniowa analizuje historyczne dane miesięczne (np. liczba operacji i liczba zatrudnionych osób) i przewiduje wartości dla wybranego następnego miesiąca.\n",
    "\t\tDane wejściowe to przekształcone numerycznie miesiące i adekwatne ilości operacji/pracowników.\n",
    "\t\tAdaptacja modelu do prognozowanego wzrostu operacji\n",
    "\t\n",
    "## Zalety tego podejścia\n",
    "\t\tPrognozowanie bierze pod uwagę sezonowe wzrosty, dzięki czemu wyniki lepiej oddają realną sytuację biznesową.\n",
    "\t\tModel jest łatwo edytowalny: można dostosować procent wzrostu, reguły kadrowe oraz typ stanowisk.\n",
    "\n",
    "## Korzyści z wdrożenia:\n",
    "\t\tPodniesienie efektywności pracy magazynu\n",
    "\t\tMinimalizacja kosztów zatrudnienia\n",
    "\t\tSzybkie i obiektywne podejmowanie decyzji kadrowych\n",
    "\t\tPrzejrzyste prognozy dla planistów i menadżerów\n"
   ]
  },
  {
   "cell_type": "markdown",
   "metadata": {},
   "source": [
    "# Architektura\n",
    "![](app.excalidraw.png)\n",
    "\n",
    "Tutaj wklej rysunek architektury aplikacji (możesz użyć `excalidraw`)"
   ]
  },
  {
   "cell_type": "markdown",
   "metadata": {},
   "source": [
    "# Plan / Taski\n",
    "* v1 -  Ładujemy DataFrame z pliku. Wyświetlamy df na stronie głównej. Tworzymy w pasku bocznym przycisk „Employees number optimisation”\n",
    "* v2 - Po naciśnięciu przycisku „Employees number optimisation” uruchamiamy proces przy użyciu biblioteki Open AI. Zadaniem jest utworzenie nowego df c ze zmienioną liczbą pracowników, która powinna odpowiadać liczbie operacji wykonanych w magazynie w poprzednim okresie w celu oceny efektywności działalności.\n",
    "* v3 - Korzystając z modelu regresji, należy prognozować liczbę pracowników na październik, listopad i grudzień. W tym celu w pasku bocznym należy wybrać: październik, listopad, grudzień. Po wybraniu miesiąca powinna pojawić się tabela z prognozowanymi operacjami i liczbą pracowników w danym miesiącu. Należy również wyświetlić wykresy zależności liczby pracowników od wolumenu ghjuyjpbhetvs [ operacji do końca 2025 roku.\n",
    "* V4 - dopracowanie wersji startowej, dodanie analityki i wizualizacji"
   ]
  },
  {
   "cell_type": "markdown",
   "metadata": {},
   "source": [
    "# Zależności\n",
    "1. Streamlit\n",
    "Aplikacja wykorzystuje Streamlit do:\n",
    "\n",
    "Tworzenia czytelnego interfejsu, gdzie użytkownik może jednym kliknięciem ładować dane, uruchamiać optymalizację pracowników, prognozować przyszłe wartości oraz przeglądać wyniki na wykresach i w tabelach.\n",
    "\n",
    "Dynamiczne sterowanie analizą przez panel boczny: wybór miesiąca, uruchamianie przycisków akcji („Optymalizacja”, „Utwórz prognozę”).\n",
    "\n",
    "2. Pandas\n",
    "Pandas zarządza całą logiką ładowania i czyszczenia danych wejściowych (plik Excel: df.xlsx).\n",
    "\n",
    "Pozwala zamieniać wczytane wartości na liczby, grupować i formatować dane do analizy czy wizualizacji.\n",
    "\n",
    "Na Pandas oparty jest przekaz danych pomiędzy metodami: prognozowanie, optymalizacja, wizualizacja.\n",
    "\n",
    "3. OpenAI\n",
    "Moduł „openai” pozwala korzystać z ChatGPT/GPT-4 prosto w aplikacji: wysyłasz wybrane fragmenty danych oraz reguły optymalizacji i otrzymujesz rekomendowaną liczbę pracowników.\n",
    "\n",
    "Wyniki z AI pomagają użytkownikowi podjąć decyzję dotyczącą struktury zatrudnienia na bazie wyliczeń modelu językowego.\n",
    "\n",
    "4. dotenv\n",
    "dotenv bezpiecznie importuje klucz API dla OpenAI, aby zrealizować komunikację z modelem AI.\n",
    "\n",
    "Nie musisz trzymać poufnych danych bezpośrednio w kodzie.\n",
    "\n",
    "5. Matplotlib, Seaborn, Plotly\n",
    "Matplotlib i Seaborn rysują statyczne wykresy (np. histogramy, wykresy dla średnich liczby pracowników).\n",
    "\n",
    "Plotly wykorzystujesz do generowania wykresów interaktywnych (np. trend liczby pracowników w kolejnych miesiącach, wizualizacje prognozowanych operacji).\n",
    "\n",
    "Dzięki temu użytkownik szybko interpretuje wyniki – może powiększać, filtrować i analizować wykresy w aplikacji.\n",
    "\n",
    "6. Scikit-learn\n",
    "Używasz LinearRegression do prognozowania przyszłych wartości na podstawie historii: zarówno ilość operacji magazynowych, jak i sugerowaną liczbę pracowników.\n",
    "\n",
    "Regresja jest kluczowym elementem zaawansowanych części – pozwala uwzględnić trend sezonowy oraz korelacje między operacjami a pracownikami.\n",
    "\n",
    "7. NumPy\n",
    "Moduł NumPy służy do przekształcania kolumn DataFrame do formatu liczbowego, obsługi macierzy i tablic podczas trenowania oraz predykcji modelu regresji.\n",
    "\n",
    "Optymalizuje przeliczanie prognozowania dla kilku typów operacji jednocześnie."
   ]
  },
  {
   "cell_type": "markdown",
   "metadata": {},
   "source": [
    "# Instalujemy wymagane biblioteki (conda wymagana)\n",
    "\n",
    "- import streamlit as st\n",
    "- import pandas as pd\n",
    "- from openai import OpenAI\n",
    "- from dotenv import dotenv_values\n",
    "- import matplotlib.pyplot as plt\n",
    "- import seaborn as sns\n",
    "- import plotly.express as px\n",
    "- import plotly.graph_objects as go\n",
    "- from sklearn.linear_model import LinearRegression\n",
    "- import numpy as np"
   ]
  }
 ],
 "metadata": {
  "kernelspec": {
   "display_name": "Python 3 (ipykernel)",
   "language": "python",
   "name": "python3"
  },
  "language_info": {
   "codemirror_mode": {
    "name": "ipython",
    "version": 3
   },
   "file_extension": ".py",
   "mimetype": "text/x-python",
   "name": "python",
   "nbconvert_exporter": "python",
   "pygments_lexer": "ipython3",
   "version": "3.11.13"
  }
 },
 "nbformat": 4,
 "nbformat_minor": 4
}
